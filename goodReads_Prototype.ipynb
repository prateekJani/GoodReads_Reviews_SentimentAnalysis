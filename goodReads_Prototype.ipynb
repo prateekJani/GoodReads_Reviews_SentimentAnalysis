{
 "cells": [
  {
   "cell_type": "code",
   "execution_count": 2,
   "metadata": {},
   "outputs": [],
   "source": [
    "# getiing data from json file \n",
    "import json\n",
    "import codecs\n",
    "\n",
    "f = open('goodreads_reviews_children.json','r')\n",
    "\n",
    "fw1 = codecs.open('goodReads_reviews.txt','w',encoding='utf8')\n",
    "fw2 = codecs.open('badReads_reviews.txt','w',encoding='utf8')\n",
    "\n",
    "for i in f:\n",
    "    df = json.loads(i)\n",
    "    reviewData,rating = 'N/A','N/A'\n",
    "    if int(df['rating']) == 4 or int(df['rating']) == 5:\n",
    "        reviewData = df['review_text']\n",
    "        reviewData = reviewData.replace('\\n','')\n",
    "        reviewData = reviewData.replace('\\t',' ')\n",
    "        reviewData = reviewData.strip()\n",
    "        rating = '1' #good\n",
    "        fw1.write(reviewData+'\\t'+rating+'\\n')\n",
    "    elif int(df['rating']) == 0 or int(df['rating']) == 1 or int(df['rating']) == 2:\n",
    "        reviewData = df['review_text']\n",
    "        reviewData = reviewData.replace('\\n','')\n",
    "        reviewData = reviewData.replace('\\t',' ')\n",
    "        reviewData = reviewData.strip()\n",
    "        rating = '0' #bad\n",
    "        fw2.write(reviewData+'\\t' +rating+'\\n')\n",
    "\n",
    "fw1.close()\n",
    "fw2.close()\n"
   ]
  },
  {
   "cell_type": "code",
   "execution_count": 8,
   "metadata": {},
   "outputs": [],
   "source": [
    "# To Split data into training and testing if the data is in the form \"list\" of strings by using sklearn library\n",
    "from sklearn.model_selection import train_test_split\n",
    "fw3 = codecs.open('train.txt','w',encoding='utf8')\n",
    "fw4 = codecs.open('test.txt','w',encoding='utf8')\n",
    "\n",
    "def loadData(fName): #Creating Training Data and Testing Data\n",
    "    reviews = []\n",
    "    labels = []\n",
    "    f2=open(fName)\n",
    "    for line in f2:\n",
    "        review = line.strip() \n",
    "        reviews.append(review) #Storing Data in a list\n",
    "    \n",
    "    f2.close()\n",
    "\n",
    "    train, test = train_test_split(reviews, test_size = 0.25)\n",
    "    \n",
    "    fw3.write(\"\\n\".join(train))\n",
    "    fw4.write('\\n'.join(test))\n",
    "    \n",
    "loadData('goodReads_reviews.txt')\n",
    "loadData('badReads_reviews.txt')\n",
    "\n",
    "fw3.close()\n",
    "fw4.close()\n"
   ]
  },
  {
   "cell_type": "code",
   "execution_count": 9,
   "metadata": {},
   "outputs": [
    {
     "ename": "ValueError",
     "evalue": "not enough values to unpack (expected 2, got 1)",
     "output_type": "error",
     "traceback": [
      "\u001b[1;31m---------------------------------------------------------------------------\u001b[0m",
      "\u001b[1;31mValueError\u001b[0m                                Traceback (most recent call last)",
      "\u001b[1;32m<ipython-input-9-9b0b7463a8a6>\u001b[0m in \u001b[0;36m<module>\u001b[1;34m()\u001b[0m\n\u001b[0;32m     20\u001b[0m \u001b[1;33m\u001b[0m\u001b[0m\n\u001b[0;32m     21\u001b[0m \u001b[1;33m\u001b[0m\u001b[0m\n\u001b[1;32m---> 22\u001b[1;33m \u001b[0mrev_train\u001b[0m\u001b[1;33m,\u001b[0m\u001b[0mlabels_train\u001b[0m\u001b[1;33m=\u001b[0m\u001b[0mgetTrainTestData\u001b[0m\u001b[1;33m(\u001b[0m\u001b[1;34m'train.txt'\u001b[0m\u001b[1;33m)\u001b[0m\u001b[1;33m\u001b[0m\u001b[0m\n\u001b[0m\u001b[0;32m     23\u001b[0m \u001b[0mrev_test\u001b[0m\u001b[1;33m,\u001b[0m\u001b[0mlabels_test\u001b[0m\u001b[1;33m=\u001b[0m\u001b[0mgetTrainTestData\u001b[0m\u001b[1;33m(\u001b[0m\u001b[1;34m'test.txt'\u001b[0m\u001b[1;33m)\u001b[0m\u001b[1;33m\u001b[0m\u001b[0m\n\u001b[0;32m     24\u001b[0m \u001b[1;33m\u001b[0m\u001b[0m\n",
      "\u001b[1;32m<ipython-input-9-9b0b7463a8a6>\u001b[0m in \u001b[0;36mgetTrainTestData\u001b[1;34m(fName)\u001b[0m\n\u001b[0;32m     11\u001b[0m     \u001b[1;32mfor\u001b[0m \u001b[0mline\u001b[0m \u001b[1;32min\u001b[0m \u001b[0mf3\u001b[0m\u001b[1;33m:\u001b[0m\u001b[1;33m\u001b[0m\u001b[0m\n\u001b[0;32m     12\u001b[0m \u001b[1;31m#         print(line.strip().split('\\t'))\u001b[0m\u001b[1;33m\u001b[0m\u001b[1;33m\u001b[0m\u001b[0m\n\u001b[1;32m---> 13\u001b[1;33m         \u001b[0mreview\u001b[0m\u001b[1;33m,\u001b[0m\u001b[0mrating\u001b[0m\u001b[1;33m=\u001b[0m\u001b[0mline\u001b[0m\u001b[1;33m.\u001b[0m\u001b[0mstrip\u001b[0m\u001b[1;33m(\u001b[0m\u001b[1;33m)\u001b[0m\u001b[1;33m.\u001b[0m\u001b[0msplit\u001b[0m\u001b[1;33m(\u001b[0m\u001b[1;34m'\\t'\u001b[0m\u001b[1;33m)\u001b[0m\u001b[1;33m\u001b[0m\u001b[0m\n\u001b[0m\u001b[0;32m     14\u001b[0m         \u001b[0mreviews\u001b[0m\u001b[1;33m.\u001b[0m\u001b[0mappend\u001b[0m\u001b[1;33m(\u001b[0m\u001b[0mreview\u001b[0m\u001b[1;33m.\u001b[0m\u001b[0mlower\u001b[0m\u001b[1;33m(\u001b[0m\u001b[1;33m)\u001b[0m\u001b[1;33m)\u001b[0m\u001b[1;33m\u001b[0m\u001b[0m\n\u001b[0;32m     15\u001b[0m         \u001b[0mlabels\u001b[0m\u001b[1;33m.\u001b[0m\u001b[0mappend\u001b[0m\u001b[1;33m(\u001b[0m\u001b[0mint\u001b[0m\u001b[1;33m(\u001b[0m\u001b[0mrating\u001b[0m\u001b[1;33m)\u001b[0m\u001b[1;33m)\u001b[0m\u001b[1;33m\u001b[0m\u001b[0m\n",
      "\u001b[1;31mValueError\u001b[0m: not enough values to unpack (expected 2, got 1)"
     ]
    }
   ],
   "source": [
    "#Based on Train and Test file we have to create training and testing variables to train the model based on the reviews with the corresponding labels.\n",
    "from sklearn.feature_extraction.text import CountVectorizer\n",
    "from sklearn.linear_model import LogisticRegression\n",
    "from sklearn.metrics import accuracy_score\n",
    "\n",
    "\n",
    "def getTrainTestData(fName):\n",
    "    reviews=[]\n",
    "    labels=[]\n",
    "    f3=open(fName)\n",
    "    for line in f3:\n",
    "        review,rating=line.strip().split('\\t')  \n",
    "        reviews.append(review.lower())    \n",
    "        labels.append(int(rating))\n",
    "    f3.close()\n",
    "    return reviews,labels\n",
    "\n",
    "\n",
    "rev_train,labels_train=getTrainTestData('train.txt')\n",
    "rev_test,labels_test=getTrainTestData('test.txt')\n",
    "\n",
    "#Build a counter based on the training dataset\n",
    "counter = CountVectorizer(lowercase=True, stop_words = None)\n",
    "counter.fit(rev_train)\n",
    "\n",
    "\n",
    "#count the number of times each term appears in a document and transform each doc into a count vector\n",
    "counts_train = counter.transform(rev_train)#transform the training data\n",
    "counts_test = counter.transform(rev_test)#transform the testing data\n",
    "\n",
    "#train classifier\n",
    "clf= LogisticRegression(solver='liblinear', dual=False, fit_intercept=True, intercept_scaling=1,tol=0.0001, C=1.0)\n",
    "\n",
    "#train all classifier on the same datasets\n",
    "clf.fit(counts_train,labels_train)\n",
    "\n",
    "#use hard voting to predict (majority voting)\n",
    "pred=clf.predict(counts_test)\n",
    "\n",
    "#print accuracy\n",
    "print (accuracy_score(pred,labels_test))"
   ]
  },
  {
   "cell_type": "code",
   "execution_count": null,
   "metadata": {},
   "outputs": [],
   "source": []
  }
 ],
 "metadata": {
  "kernelspec": {
   "display_name": "Python 3",
   "language": "python",
   "name": "python3"
  },
  "language_info": {
   "codemirror_mode": {
    "name": "ipython",
    "version": 3
   },
   "file_extension": ".py",
   "mimetype": "text/x-python",
   "name": "python",
   "nbconvert_exporter": "python",
   "pygments_lexer": "ipython3",
   "version": "3.7.0"
  }
 },
 "nbformat": 4,
 "nbformat_minor": 2
}
